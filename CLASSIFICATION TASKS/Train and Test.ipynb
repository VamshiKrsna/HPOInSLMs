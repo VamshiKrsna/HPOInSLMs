{
 "cells": [
  {
   "cell_type": "markdown",
   "id": "8b7e738c-7aa9-423a-9c26-9b256a046b09",
   "metadata": {},
   "source": [
    "# PAPER 1 - Hyper Parameter Tuning and Optimization in SLMs for Classification Tasks."
   ]
  },
  {
   "cell_type": "code",
   "execution_count": 8,
   "id": "4ac17062-cb49-479d-a903-2726e77eeebb",
   "metadata": {},
   "outputs": [
    {
     "name": "stdout",
     "output_type": "stream",
     "text": [
      "Requirement already satisfied: optuna==4.4.0 in c:\\users\\rizen3\\desktop\\vamshi\\rsch\\reserach-venv\\lib\\site-packages (4.4.0)\n",
      "Requirement already satisfied: optuna-dashboard in c:\\users\\rizen3\\desktop\\vamshi\\rsch\\reserach-venv\\lib\\site-packages (0.19.0)\n",
      "Requirement already satisfied: alembic>=1.5.0 in c:\\users\\rizen3\\desktop\\vamshi\\rsch\\reserach-venv\\lib\\site-packages (from optuna==4.4.0) (1.16.2)\n",
      "Requirement already satisfied: colorlog in c:\\users\\rizen3\\desktop\\vamshi\\rsch\\reserach-venv\\lib\\site-packages (from optuna==4.4.0) (6.9.0)\n",
      "Requirement already satisfied: numpy in c:\\users\\rizen3\\desktop\\vamshi\\rsch\\reserach-venv\\lib\\site-packages (from optuna==4.4.0) (2.3.1)\n",
      "Requirement already satisfied: packaging>=20.0 in c:\\users\\rizen3\\desktop\\vamshi\\rsch\\reserach-venv\\lib\\site-packages (from optuna==4.4.0) (25.0)\n",
      "Requirement already satisfied: sqlalchemy>=1.4.2 in c:\\users\\rizen3\\desktop\\vamshi\\rsch\\reserach-venv\\lib\\site-packages (from optuna==4.4.0) (2.0.41)\n",
      "Requirement already satisfied: tqdm in c:\\users\\rizen3\\desktop\\vamshi\\rsch\\reserach-venv\\lib\\site-packages (from optuna==4.4.0) (4.67.1)\n",
      "Requirement already satisfied: PyYAML in c:\\users\\rizen3\\desktop\\vamshi\\rsch\\reserach-venv\\lib\\site-packages (from optuna==4.4.0) (6.0.2)\n",
      "Requirement already satisfied: bottle>=0.13.0 in c:\\users\\rizen3\\desktop\\vamshi\\rsch\\reserach-venv\\lib\\site-packages (from optuna-dashboard) (0.13.4)\n",
      "Requirement already satisfied: scikit-learn in c:\\users\\rizen3\\desktop\\vamshi\\rsch\\reserach-venv\\lib\\site-packages (from optuna-dashboard) (1.7.0)\n",
      "Requirement already satisfied: Mako in c:\\users\\rizen3\\desktop\\vamshi\\rsch\\reserach-venv\\lib\\site-packages (from alembic>=1.5.0->optuna==4.4.0) (1.3.10)\n",
      "Requirement already satisfied: typing-extensions>=4.12 in c:\\users\\rizen3\\desktop\\vamshi\\rsch\\reserach-venv\\lib\\site-packages (from alembic>=1.5.0->optuna==4.4.0) (4.14.0)\n",
      "Requirement already satisfied: greenlet>=1 in c:\\users\\rizen3\\desktop\\vamshi\\rsch\\reserach-venv\\lib\\site-packages (from sqlalchemy>=1.4.2->optuna==4.4.0) (3.2.3)\n",
      "Requirement already satisfied: colorama in c:\\users\\rizen3\\desktop\\vamshi\\rsch\\reserach-venv\\lib\\site-packages (from colorlog->optuna==4.4.0) (0.4.6)\n",
      "Requirement already satisfied: scipy>=1.8.0 in c:\\users\\rizen3\\desktop\\vamshi\\rsch\\reserach-venv\\lib\\site-packages (from scikit-learn->optuna-dashboard) (1.16.0)\n",
      "Requirement already satisfied: joblib>=1.2.0 in c:\\users\\rizen3\\desktop\\vamshi\\rsch\\reserach-venv\\lib\\site-packages (from scikit-learn->optuna-dashboard) (1.5.1)\n",
      "Requirement already satisfied: threadpoolctl>=3.1.0 in c:\\users\\rizen3\\desktop\\vamshi\\rsch\\reserach-venv\\lib\\site-packages (from scikit-learn->optuna-dashboard) (3.6.0)\n",
      "Requirement already satisfied: MarkupSafe>=0.9.2 in c:\\users\\rizen3\\desktop\\vamshi\\rsch\\reserach-venv\\lib\\site-packages (from Mako->alembic>=1.5.0->optuna==4.4.0) (3.0.2)\n"
     ]
    },
    {
     "name": "stderr",
     "output_type": "stream",
     "text": [
      "\n",
      "[notice] A new release of pip is available: 23.1.2 -> 25.1.1\n",
      "[notice] To update, run: python.exe -m pip install --upgrade pip\n"
     ]
    }
   ],
   "source": [
    "!pip install optuna==4.4.0 optuna-dashboard"
   ]
  },
  {
   "cell_type": "code",
   "execution_count": 13,
   "id": "79699d41-4d9e-4e6c-a84b-5e449a877983",
   "metadata": {},
   "outputs": [],
   "source": [
    "#imports \n",
    "import os\n",
    "import time\n",
    "import torch \n",
    "# import optuna\n",
    "import pandas as pd\n",
    "from transformers import (\n",
    "    AutoModelForSequenceClassification, \n",
    "    AutoTokenizer, \n",
    "    Trainer, \n",
    "    TrainingArguments, \n",
    "    DataCollatorWithPadding\n",
    ")\n",
    "from datasets import load_dataset, load_metric"
   ]
  },
  {
   "cell_type": "code",
   "execution_count": 14,
   "id": "490a14d3-786f-4fee-96cb-9f58e596eb8f",
   "metadata": {},
   "outputs": [],
   "source": [
    "#configs and constants \n",
    "MODELS = {\n",
    "    \"bert-medium\": \"prajjwal1/bert-medium\",\n",
    "    \"distilbert\": \"distilbert/distilbert-base-uncased\",\n",
    "    \"albert\": \"albert/albert-base-v2\",\n",
    "    \"minibert\": \"google/bert_uncased_L-4_H-512_A-8\",\n",
    "    \"mobilebert\": \"google/mobilebert-uncased\"\n",
    "}\n",
    "TASK = \"sst2\" \n",
    "N_TRIALS = 30\n",
    "MAX_PRUNE_EPOCH = 3\n",
    "FULL_TRAIN_EPOCHS = 4\n",
    "SEEDS = [42, 100, 2025]"
   ]
  },
  {
   "cell_type": "code",
   "execution_count": null,
   "id": "116d3877-c585-4928-b523-e251701e7b5d",
   "metadata": {},
   "outputs": [],
   "source": []
  },
  {
   "cell_type": "code",
   "execution_count": null,
   "id": "1dfbc453-8c6c-4cf4-9b20-4146fd3e596a",
   "metadata": {},
   "outputs": [],
   "source": []
  },
  {
   "cell_type": "code",
   "execution_count": null,
   "id": "cca37455-a87b-46e7-ac25-7c312aa507af",
   "metadata": {},
   "outputs": [],
   "source": []
  },
  {
   "cell_type": "code",
   "execution_count": null,
   "id": "4e96790e-fa79-40d9-8424-6ab9d23687ed",
   "metadata": {},
   "outputs": [],
   "source": []
  }
 ],
 "metadata": {
  "kernelspec": {
   "display_name": "Python 3 (ipykernel)",
   "language": "python",
   "name": "python3"
  },
  "language_info": {
   "codemirror_mode": {
    "name": "ipython",
    "version": 3
   },
   "file_extension": ".py",
   "mimetype": "text/x-python",
   "name": "python",
   "nbconvert_exporter": "python",
   "pygments_lexer": "ipython3",
   "version": "3.11.4"
  }
 },
 "nbformat": 4,
 "nbformat_minor": 5
}
